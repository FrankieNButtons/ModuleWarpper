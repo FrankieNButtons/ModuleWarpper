{
 "cells": [
  {
   "cell_type": "markdown",
   "id": "27173dc2",
   "metadata": {},
   "source": [
    "# <center>我整个重写一遍吧"
   ]
  },
  {
   "cell_type": "markdown",
   "id": "cbadca16",
   "metadata": {},
   "source": [
    "## 所有用到的环境"
   ]
  },
  {
   "cell_type": "code",
   "execution_count": 4,
   "id": "21e04e0d",
   "metadata": {},
   "outputs": [],
   "source": [
    "import functools;\n",
    "import time;\n",
    "import types;"
   ]
  },
  {
   "cell_type": "code",
   "execution_count": null,
   "id": "b8971aa0",
   "metadata": {},
   "outputs": [],
   "source": []
  },
  {
   "cell_type": "markdown",
   "id": "2bdbd1e8",
   "metadata": {},
   "source": [
    "## 代码兼容性评估"
   ]
  },
  {
   "cell_type": "markdown",
   "id": "5091c051",
   "metadata": {},
   "source": [
    "### Some General Functions"
   ]
  },
  {
   "cell_type": "code",
   "execution_count": 5,
   "id": "e21ecd99",
   "metadata": {},
   "outputs": [
    {
     "data": {
      "text/plain": [
       "True"
      ]
     },
     "execution_count": 5,
     "metadata": {},
     "output_type": "execute_result"
    }
   ],
   "source": [
    "def isFuncFromModule(func: types.FunctionType, module: str):\n",
    "    return func.__module__.startswith(module);\n",
    "isFuncFromModule(torch.nn.LSTM, \"torch\")"
   ]
  },
  {
   "cell_type": "code",
   "execution_count": 6,
   "id": "68cb49f3",
   "metadata": {
    "scrolled": true
   },
   "outputs": [
    {
     "data": {
      "text/plain": [
       "['ASGD',\n",
       " 'Adadelta',\n",
       " 'Adagrad',\n",
       " 'Adam',\n",
       " 'AdamW',\n",
       " 'Adamax',\n",
       " 'LBFGS',\n",
       " 'NAdam',\n",
       " 'Optimizer',\n",
       " 'RAdam',\n",
       " 'RMSprop',\n",
       " 'Rprop',\n",
       " 'SGD',\n",
       " 'SparseAdam',\n",
       " '_functional',\n",
       " '_multi_tensor',\n",
       " 'lr_scheduler',\n",
       " 'swa_utils']"
      ]
     },
     "execution_count": 6,
     "metadata": {},
     "output_type": "execute_result"
    }
   ],
   "source": [
    "def getAttributes(module: str):\n",
    "    return [i for i in dir(module) if \"__\" not in i];\n",
    "getAttributes(torch.optim)"
   ]
  },
  {
   "cell_type": "code",
   "execution_count": 7,
   "id": "4a7cab1a",
   "metadata": {},
   "outputs": [
    {
     "data": {
      "text/plain": [
       "('torch.optim.Adam', 'torch.mul')"
      ]
     },
     "execution_count": 7,
     "metadata": {},
     "output_type": "execute_result"
    }
   ],
   "source": [
    "def getAPIName(func):\n",
    "    apiName = func.__module__;\n",
    "    if func.__name__[-len(func.__name__)+1:] == apiName[-len(func.__name__)+1:]:\n",
    "        apiName = apiName[:-len(func.__name__)] + func.__name__;\n",
    "    else:\n",
    "        apiName = apiName + \".\" + func.__name__;\n",
    "    return apiName;\n",
    "getAPIName(torch.optim.Adam),getAPIName(torch.mul)"
   ]
  },
  {
   "cell_type": "code",
   "execution_count": 8,
   "id": "5a95d150",
   "metadata": {},
   "outputs": [
    {
     "data": {
      "text/plain": [
       "False"
      ]
     },
     "execution_count": 8,
     "metadata": {},
     "output_type": "execute_result"
    }
   ],
   "source": [
    "def isDecorated(func: types.FunctionType):\n",
    "    if hasattr(func, \"isDecorated\"):\n",
    "        return True;\n",
    "    else: \n",
    "        return False;\n",
    "isDecorated(torch.tensor)"
   ]
  },
  {
   "cell_type": "markdown",
   "id": "ab3870fd",
   "metadata": {},
   "source": [
    "### Some General Decorators Patterns"
   ]
  },
  {
   "cell_type": "markdown",
   "id": "67ba8470",
   "metadata": {},
   "source": [
    "#### 需要的环境"
   ]
  },
  {
   "cell_type": "code",
   "execution_count": 9,
   "id": "d2915be3",
   "metadata": {},
   "outputs": [],
   "source": [
    "import functools;\n",
    "import time;\n",
    "import types;\n",
    "import warnings;"
   ]
  },
  {
   "cell_type": "markdown",
   "id": "cb493bdb",
   "metadata": {},
   "source": [
    "#### TimerDecorator"
   ]
  },
  {
   "cell_type": "code",
   "execution_count": 10,
   "id": "58dd2c01",
   "metadata": {},
   "outputs": [],
   "source": [
    "def TimerDecorator(func: types.FunctionType):\n",
    "    \"\"\"\n",
    "    **Description**\n",
    "    A running timer for a function.\n",
    "    \n",
    "    **params**\n",
    "    func(String): the function to be timed.\n",
    "    \n",
    "    **returns**\n",
    "    wrapper: a timer decorated function.\n",
    "    \"\"\"\n",
    "    @functools.wraps(func)\n",
    "    def wrapper(*args, **kwargs):\n",
    "        startTime = time.perf_counter_ns();\n",
    "        result = func(*args, **kwargs);\n",
    "        endTime = time.perf_counter_ns();\n",
    "        costTime = (endTime - startTime) / 1000 / 1000;\n",
    "        timeLog = f\"{func.__name__}() cost {costTime} ms\";\n",
    "        # print(timeLog);\n",
    "        return result, startTime, costTime;\n",
    "    return wrapper;"
   ]
  },
  {
   "cell_type": "markdown",
   "id": "5fbf3d51",
   "metadata": {},
   "source": [
    "Test Cases"
   ]
  },
  {
   "cell_type": "code",
   "execution_count": 11,
   "id": "c6a1755c",
   "metadata": {},
   "outputs": [
    {
     "data": {
      "text/plain": [
       "((tensor([[23.0800, 23.0500],\n",
       "          [43.4516, 48.1955]]),\n",
       "  609541406512600,\n",
       "  2.0538000000000003),\n",
       " '%%%%%%%%%%%%%%%%%%%%%%%%%',\n",
       " (120, 609541408669800, 0.005900000000000001))"
      ]
     },
     "execution_count": 11,
     "metadata": {},
     "output_type": "execute_result"
    }
   ],
   "source": [
    "def tst():\n",
    "    t = 1;\n",
    "    for i in range(5):\n",
    "        t *= (i+1);\n",
    "    return t;\n",
    "\n",
    "TimerDecorator(torch.matmul)(torch.tensor([[1.0,5.0],[3.07,7.29]]), torch.tensor([[6.08,9.05],[3.4,2.8]])), \"%%%%%%%%%%%%%%%%%%%%%%%%%\",\\\n",
    "TimerDecorator(tst)()"
   ]
  },
  {
   "cell_type": "markdown",
   "id": "fca59dd2",
   "metadata": {},
   "source": [
    "#### APIDecorator"
   ]
  },
  {
   "cell_type": "code",
   "execution_count": 12,
   "id": "e8357c77",
   "metadata": {},
   "outputs": [],
   "source": [
    "def APIDecorator(func: str, module: str=None):\n",
    "    \"\"\"\n",
    "    **Description**\n",
    "    A API usage recorder for a function.\n",
    "    \n",
    "    **params**\n",
    "    func(String): the function to be recorded.\n",
    "    \n",
    "    **returns**\n",
    "    wrapper: a API usage recored functiion.\n",
    "    \"\"\"\n",
    "    apiName = getAPIName(func)\n",
    "    @functools.wraps(func)\n",
    "    def wrapper(*args, **kwargs):\n",
    "        apiName = getAPIName(func)\n",
    "        result, startTimestamp, costTime= TimerDecorator(func)(*args, **kwargs);\n",
    "        return result, apiName, startTimestamp, costTime;\n",
    "    if module == None:\n",
    "        return wrapper;\n",
    "    elif func.__module__.startswith(module):\n",
    "        return wrapper;\n",
    "    else:\n",
    "        # raise ValueError(f\"the function `{apiName}` is not from module `{module}`\");\n",
    "        return func;"
   ]
  },
  {
   "cell_type": "markdown",
   "id": "606c9ad9",
   "metadata": {},
   "source": [
    "Test Cases"
   ]
  },
  {
   "cell_type": "code",
   "execution_count": 13,
   "id": "3c031b85",
   "metadata": {},
   "outputs": [
    {
     "data": {
      "text/plain": [
       "(tensor([0.2437, 1.2762]),\n",
       " '%%%%%%%%%%%%%%%%%%%%%%%%%%%%%%%%%%%%%%%%%%%',\n",
       " (tensor([[ 0.0903,  0.0890,  2.5897],\n",
       "          [ 0.7614,  0.2895, -1.5856]]),\n",
       "  'torch.randn',\n",
       "  609544966311900,\n",
       "  0.2326),\n",
       " '%%%%%%%%%%%%%%%%%%%%%%%%%%%%%%%%%%%%%%%%%%%',\n",
       " (tensor([ 5.,  0.,  2., 12.]), 'torch.mul', 609544966770700, 0.0437))"
      ]
     },
     "execution_count": 13,
     "metadata": {},
     "output_type": "execute_result"
    }
   ],
   "source": [
    "APIDecorator(torch.normal, \"types\")(torch.tensor([0,0.01])), \"%%%%%%%%%%%%%%%%%%%%%%%%%%%%%%%%%%%%%%%%%%%\", \\\n",
    "APIDecorator(torch.randn, \"torch\")([2,3]), \"%%%%%%%%%%%%%%%%%%%%%%%%%%%%%%%%%%%%%%%%%%%\", \\\n",
    "APIDecorator(torch.mul)(torch.tensor([2.5,0,1,3]), torch.tensor([2,0.9,2,4]))"
   ]
  },
  {
   "cell_type": "code",
   "execution_count": 14,
   "id": "3786915c",
   "metadata": {},
   "outputs": [
    {
     "data": {
      "text/plain": [
       "'torch'"
      ]
     },
     "execution_count": 14,
     "metadata": {},
     "output_type": "execute_result"
    }
   ],
   "source": [
    "torch.mul.__module__"
   ]
  },
  {
   "cell_type": "markdown",
   "id": "79f3d5ad",
   "metadata": {},
   "source": [
    "### Class TorchWrapper"
   ]
  },
  {
   "cell_type": "markdown",
   "id": "563c4d88",
   "metadata": {},
   "source": [
    "#### 需要的环境"
   ]
  },
  {
   "cell_type": "code",
   "execution_count": 1,
   "id": "9c39f1d3",
   "metadata": {},
   "outputs": [],
   "source": [
    "import functools;\n",
    "import time;\n",
    "import types;\n",
    "import json;\n",
    "import os;\n",
    "import operator;\n",
    "import pandas as pd;\n",
    "import torch;"
   ]
  },
  {
   "cell_type": "markdown",
   "id": "42942f99",
   "metadata": {},
   "source": [
    "#### TorchWrapper"
   ]
  },
  {
   "cell_type": "code",
   "execution_count": 2,
   "id": "e4c7db92",
   "metadata": {},
   "outputs": [
    {
     "ename": "SyntaxError",
     "evalue": "invalid syntax (3343111851.py, line 156)",
     "output_type": "error",
     "traceback": [
      "\u001b[1;36m  Cell \u001b[1;32mIn[2], line 156\u001b[1;36m\u001b[0m\n\u001b[1;33m    def decorateModule(self, module: types.ModuleType, visited=None: set):\u001b[0m\n\u001b[1;37m                                                                   ^\u001b[0m\n\u001b[1;31mSyntaxError\u001b[0m\u001b[1;31m:\u001b[0m invalid syntax\n"
     ]
    }
   ],
   "source": [
    "\"\"\"\n",
    "*****************************\n",
    "The Structure For callRecords\n",
    "*****************************\n",
    "callRecords\n",
    "│\n",
    "├── API_1\n",
    "│   │\n",
    "│   ├── TotalTime(ms): 150.0\n",
    "│   │\n",
    "│   ├── 1\n",
    "│   │   ├── StartTimestamp: 1625150800123456789\n",
    "│   │   ├── CostTime(ms): 50.0\n",
    "│   │   └── Arguments: (arg1, arg2, ...)\n",
    "│   │\n",
    "│   ├── 2\n",
    "│       ├── StartTimestamp: 1625150860123456789\n",
    "│       ├── CostTime(ms): 100.0\n",
    "│       └── Arguments: (arg1, arg2, ...)\n",
    "│\n",
    "├── API_2\n",
    "│   │\n",
    "│   ├── TotalTime(ms): 200.0\n",
    "│   │\n",
    "│   ├── 1\n",
    "│       ├── StartTimestamp: 1625150900123456789\n",
    "│       ├── CostTime(ms): 200.0\n",
    "│       └── Arguments: (arg1, arg2, ...)\n",
    "\"\"\"\n",
    "\n",
    "class TorchWrapper:\n",
    "    \"\"\"\n",
    "    ********************\n",
    "    Initializing Section\n",
    "    ********************\n",
    "    \"\"\"\n",
    "    \n",
    "    # Some const for restoring default or checking steps.\n",
    "    DEFAULT_FORMAT = \"csv\";\n",
    "    DEFAULT_NAME_EPEC = \"timestamp\";\n",
    "    SUPPORTED_FORMATS = [\"json\", \"csv\", \"html\"];\n",
    "    SUPPORETD_NAME_SPEC = [\"timestamp\", \"datetime\", \"serial\"];\n",
    "\n",
    "    class ConfigKey:\n",
    "        OUT_DIR = \"out_dir\";\n",
    "        FORMAT = \"format\";\n",
    "        FILE_MAX_SIZE = \"file_max_size\";\n",
    "        FILE_NAME_SPEC = \"file_name_spec\";\n",
    "\n",
    "    class CallRecordKey:\n",
    "        API_NAME = \"APIName\";\n",
    "        \n",
    "        class ResultKey:\n",
    "            TOTAL_TIME = \"TotalTime(ms)\";\n",
    "            CALL_NUMBER = \"CallNumber\";\n",
    "            START_TIMESTAMP = \"StartTimestamp\";\n",
    "            COST_TIME = \"CostTime(ms)\";\n",
    "            ARGUMENTS = \"Arguments\";\n",
    "        \n",
    "\n",
    "\n",
    "    # initialize the wrapper\n",
    "    def __init__(self, config: dict):\n",
    "        self.callRecords = {};\n",
    "        self.config = self.parseConfig(config);\n",
    "\n",
    "    # restoring default or checking steps.\n",
    "    def parseConfig(self, config:dict):\n",
    "        \"\"\"restoring default or checking steps.\"\"\"\n",
    "        # check output directory\n",
    "        if TorchWrapper.ConfigKey.OUT_DIR not in config:\n",
    "            raise ValueError(\"Output directory is required.\");\n",
    "        else:\n",
    "            assert isinstance(config[TorchWrapper.ConfigKey.OUT_DIR], str);\n",
    "\n",
    "        # check output format\n",
    "        if TorchWrapper.ConfigKey.FORMAT in config:\n",
    "            assert isinstance(config[TorchWrapper.ConfigKey.FORMAT], str);\n",
    "            format = config[TorchWrapper.ConfigKey.FORMAT];\n",
    "            if format not in TorchWrapper.SUPPORTED_FORMATS:\n",
    "                raise ValueError(f\"Unsupported format {format} for saving result\");\n",
    "        else:\n",
    "            config[TorchWrapper.ConfigKey.FORMAT] = TorchWrapper.DEFAULT_FORMAT;\n",
    "\n",
    "        # check output size limits\n",
    "        if TorchWrapper.ConfigKey.FILE_MAX_SIZE in config:\n",
    "            assert isinstance(config[TorchWrapper.ConfigKey.FILE_MAX_SIZE], str);\n",
    "            if config[TorchWrapper.ConfigKey.FILE_MAX_SIZE][-2:] not in [\"KB\", \"MB\", \"GB\"]:\n",
    "                raise ValueError(\"maxSize should be defined in the style of `myInt`KB/MB/GB\");\n",
    "\n",
    "        # check output name spec \n",
    "        if TorchWrapper.ConfigKey.FILE_NAME_SPEC in config:\n",
    "            assert isinstance(config[TorchWrapper.ConfigKey.FILE_NAME_SPEC], str);\n",
    "            name_spec = config[TorchWrapper.ConfigKey.FILE_NAME_SPEC];\n",
    "            if name_spec not in TorchWrapper.SUPPORETD_NAME_SPEC:\n",
    "                raise ValueError(f\"Unsupported file name spec {name_spec}\");\n",
    "            else:\n",
    "                config[TorchWrapper.ConfigKey.FILE_NAME_SPEC] = TorchWrapper.DEFAULT_NAME_EPEC;\n",
    "      \n",
    "    \"\"\"\n",
    "    ******************\n",
    "    Decorator Section\n",
    "    ******************\n",
    "    \"\"\"\n",
    "    def CountDecorator(func: str):\n",
    "        \"\"\"\n",
    "        **Description**\n",
    "        A decorator that count the call of a function and record it in a dictionary.\n",
    "        \n",
    "        **params**\n",
    "        func(String): the function to be recorded calling times.\n",
    "        \n",
    "        **return**\n",
    "        wrapper: a function that has been counted calling times.\n",
    "        \"\"\"\n",
    "        @functools.warps(func)\n",
    "        def wrapper(*args, **kwargs):\n",
    "            # initialize the record.            \n",
    "            record = {\n",
    "                TorchWrapper.CallRecordKey.ResultKey.CALL_NUMBER: None,\n",
    "                TorchWrapper.CallRecordKey.ResultKey.START_TIMESTAMP: None,\n",
    "                TorchWrapper.CallRecordKey.ResultKey.COST_TIME: None,\n",
    "                TorchWrapper.CallRecordKey.ResultKey.ARGUMENTS: args\n",
    "            };\n",
    "            \n",
    "            # catch the result.\n",
    "            result, apiName, startTimestamp, costTime = APIDecorator(func)(*args, **kwargs);            \n",
    "            if apiName in self.callRecords:\n",
    "                callCount = len(self.callRecords[apiName].keys);\n",
    "                totalTime = callRecords[apiName][TorchWrapper.CallRecordKey.ResultKey.TOTAL_TIME];\n",
    "            else:\n",
    "                callCount = 0;\n",
    "                totalTime = 0.0;\n",
    "            \n",
    "            # Generate the record.\n",
    "            record[TorchWrapper.CallRecordKey.ResultKey.START_TIMESTAMP] = startTimestamp;\n",
    "            record[TorchWrapper.CallRecordKey.ResultKey.COST_TIME] = costTime;\n",
    "            record[TorchWrapper.CallRecordKey.ResultKey.ARGUMENTS] = args;\n",
    "            totalTime += costTime;\n",
    "            \n",
    "            # Saving the record\n",
    "            self.calRecords[apiName][TorchWrapper.CallRecordKey.ResultKey.TOTAL_TIME] =totalTime;\n",
    "            self.calRecords[apiName][callCount] = record;\n",
    "            \n",
    "            \n",
    "            return result;\n",
    "        wrapper.isDecorated = True;\n",
    "        return wrapper;\n",
    "        \n",
    "    \"\"\"\n",
    "    ******************\n",
    "    Processing Section\n",
    "    ******************\n",
    "    \"\"\"\n",
    "    \n",
    "    def decorateModule(self, module: types.ModuleType, visited=None: set):\n",
    "        \"\"\"\n",
    "        **Description**\n",
    "        a function that can wrap the hole module with CountDecorator.\n",
    "\n",
    "        **params**\n",
    "        module(String): The name of module to be decorated.\n",
    "        visited(Set): the module name that has been decorated.\n",
    "\n",
    "        **returns**\n",
    "        a module that has been fully decorated.\n",
    "        \"\"\"\n",
    "        assert isinstance(module), \"`module`must be a module.\";\n",
    "        \n",
    "        if visited = None:\n",
    "            visited = None;\n",
    "        elif module in visited:\n",
    "            return;\n",
    "        visited.add(getAPIName(module))\n",
    "            \n",
    "        \n",
    "        for name in getAttribututes(module):\n",
    "            print(\"descending into {} from \")\n",
    "            func = getattr(module, name);\n",
    "            if isinstance(func, types.ModuleType):\n",
    "                setattr(module, func.__name__, decorateModule(func, visited));\n",
    "            elif isinstance(func, types.FunctionType):\n",
    "                decoratedFunc = CountDecorator(func);\n",
    "                setattr(module, func.__name__, decoratedFunc);\n",
    "    \n",
    "    \"\"\"\n",
    "    **************\n",
    "    Saving Section\n",
    "    **************\n",
    "    \"\"\"\n",
    "    \n",
    "    # parse the usable value from config\n",
    "    # parse max file size limit;\n",
    "    def getFileMaxSize(self, config: dict):\n",
    "        \"\"\"Though I don't think this is necessary.-- Frankie\"\"\"\n",
    "        if TorchWrapper.ConfigKey.FILE_MAX_SIZE in config:\n",
    "            maxSize = config[TorchWrapper.ConfigKey.FILE_MAX_SIZE];\n",
    "            if maxSize.endwith(\"KB\"):\n",
    "                maxSize = int(maxSize[:-2]) * 1024;\n",
    "            elif maxSize.endwith(\"MB\"):\n",
    "                maxSize = int(maxSize[:-2]) * (1024 ** 2);\n",
    "            elif maxSize.endwith(\"GB\"):\n",
    "                maxSize = int(maxSize[:-2]) * (1024 ** 3);\n",
    "            return maxSize;\n",
    "  \n",
    "                          \n",
    "    def getFileNameSuffix(self, file_name_spec: str):\n",
    "        if file_name_spec == \"timestamp\":\n",
    "            return time.time_ns();\n",
    "        elif file_name_spec == \"datetime\":\n",
    "            return time.strftime(\"%Y-%m-%d %H:%M:%S\", time.localtime());\n",
    "        elif file_name_spec == \"serial\":\n",
    "            raise NotImplementedError;\n",
    "                          \n",
    "    # Prepare the result saving directory\n",
    "    def setPath(path):\n",
    "        if os.path.exists(path):\n",
    "            if not os.path.isdir(path):\n",
    "                raise ValueError(f\"Path {path} is not a directory\");\n",
    "        else:\n",
    "            os.makedirs(path);\n",
    "        return path;\n",
    "    \n",
    "        \n",
    "        \n",
    "    # \n",
    "    def saveRecord(config: dict, fileName: str):\n",
    "        def getFileName():\n",
    "            \n",
    "        def saveToJson(fileName: str):\n",
    "            \"\"\"TODO: save DataFrame formatted callRecorded to a .json file.\"\"\"\n",
    "            \n",
    "        def saveToCSV(fileName: str):\n",
    "            \"\"\"TODO: save DataFrame formatted callRecorded to a .csv file.\"\"\"\n",
    "            \n",
    "        def saveToExcel(fileName: str):\n",
    "            \"\"\"TODO: save DataFrame formatted callRecorded to a .excel file.\"\"\"\n",
    "            \n",
    "        def saveToHTML(fileName: str):\n",
    "            \"\"\"TODO: save DataFrame formatted callRecorded to a .html file\"\"\"\n",
    "            \n",
    "        def getFileName(config: dict) -> str:\n",
    "        \n",
    "        \n",
    "        getFileName(config);\n",
    "        data = self.getDFFormattedCallRecords();\n",
    "\n",
    "    \"\"\"\n",
    "    ******************\n",
    "    Main Usage Section\n",
    "    ******************\n",
    "    \"\"\"\n",
    "    \n",
    "        def start(self, func):\n",
    "            \"\"\"\n",
    "            **Description**\n",
    "            \"\"\"\n",
    "            config = self.parseConfig(config);\n",
    "            self.decorateModule(torch);\n",
    "            func()\n",
    "            \n",
    "            fileName = self.getFileNameSuffix(config);\n",
    "            #  self.saveReport(self.callRecords);\n",
    "        "
   ]
  },
  {
   "cell_type": "code",
   "execution_count": 356,
   "id": "9793e735",
   "metadata": {},
   "outputs": [],
   "source": [
    "gA = getAttributes"
   ]
  },
  {
   "cell_type": "code",
   "execution_count": 359,
   "id": "3b3c54b6",
   "metadata": {},
   "outputs": [
    {
     "data": {
      "text/plain": [
       "(tensor([2, 3]),\n",
       " 548149788238200,\n",
       " 1.2635,\n",
       " tensor([6, 9]),\n",
       " 548149789541200,\n",
       " 0.2058)"
      ]
     },
     "execution_count": 359,
     "metadata": {},
     "output_type": "execute_result"
    }
   ],
   "source": [
    "ts = \"tensor\"\n",
    "tc = torch\n",
    "ttensor = TimerDecorator(torch.tensor)\n",
    "ttensor([2,3]) + ttensor([6,9])"
   ]
  },
  {
   "cell_type": "code",
   "execution_count": 371,
   "id": "225ab17b",
   "metadata": {},
   "outputs": [],
   "source": [
    "setattr(torch, \"tensor\", APIDecorator(torch.tensor))"
   ]
  },
  {
   "cell_type": "code",
   "execution_count": 372,
   "id": "fad67e52",
   "metadata": {},
   "outputs": [
    {
     "data": {
      "text/plain": [
       "(tensor([2, 3]), 'torch.tensor', 607726794436900, 1.0397)"
      ]
     },
     "execution_count": 372,
     "metadata": {},
     "output_type": "execute_result"
    }
   ],
   "source": [
    "torch.tensor([2,3])"
   ]
  },
  {
   "cell_type": "code",
   "execution_count": 247,
   "id": "e2c29e69",
   "metadata": {},
   "outputs": [
    {
     "name": "stderr",
     "output_type": "stream",
     "text": [
      "C:\\Users\\mi\\AppData\\Local\\Temp\\ipykernel_20396\\3535486387.py:2: UserWarning: Hi\n",
      "  warnings.warn(\"Hi\")\n"
     ]
    }
   ],
   "source": [
    "import warnings\n",
    "warnings.warn(\"Hi\")"
   ]
  },
  {
   "cell_type": "code",
   "execution_count": 343,
   "id": "edd32224",
   "metadata": {},
   "outputs": [],
   "source": [
    "class cal():\n",
    "    def __init__(self):\n",
    "        self.FFF = 6;\n",
    "        self.TTT = 7;\n",
    "        \n",
    "    def demo(self):\n",
    "        return self.FFF * self.TTT;\n",
    "    \n",
    "    def add(self, a, b):\n",
    "        return a + b;\n",
    "    def minus(self, a, b):\n",
    "        return a - b;"
   ]
  },
  {
   "cell_type": "code",
   "execution_count": 1,
   "id": "3443f5e6",
   "metadata": {},
   "outputs": [],
   "source": [
    "import torch"
   ]
  },
  {
   "cell_type": "code",
   "execution_count": 2,
   "id": "41be8d68",
   "metadata": {},
   "outputs": [
    {
     "data": {
      "text/plain": [
       "tensor([2, 3])"
      ]
     },
     "execution_count": 2,
     "metadata": {},
     "output_type": "execute_result"
    }
   ],
   "source": [
    "torch.tensor([2,3])"
   ]
  },
  {
   "cell_type": "code",
   "execution_count": 16,
   "id": "16cebe25",
   "metadata": {},
   "outputs": [
    {
     "data": {
      "text/plain": [
       "'torch.tensor'"
      ]
     },
     "execution_count": 16,
     "metadata": {},
     "output_type": "execute_result"
    }
   ],
   "source": [
    "getAPIName(torch.tensor)"
   ]
  },
  {
   "cell_type": "code",
   "execution_count": null,
   "id": "16ea5d51",
   "metadata": {},
   "outputs": [],
   "source": [
    "wrapper = TorchWrapper"
   ]
  }
 ],
 "metadata": {
  "kernelspec": {
   "display_name": "Python 3 (ipykernel)",
   "language": "python",
   "name": "python3"
  },
  "language_info": {
   "codemirror_mode": {
    "name": "ipython",
    "version": 3
   },
   "file_extension": ".py",
   "mimetype": "text/x-python",
   "name": "python",
   "nbconvert_exporter": "python",
   "pygments_lexer": "ipython3",
   "version": "3.11.5"
  }
 },
 "nbformat": 4,
 "nbformat_minor": 5
}
